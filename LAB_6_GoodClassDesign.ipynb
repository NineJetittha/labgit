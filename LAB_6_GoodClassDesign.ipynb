{
  "nbformat": 4,
  "nbformat_minor": 0,
  "metadata": {
    "colab": {
      "provenance": []
    },
    "kernelspec": {
      "name": "python3",
      "display_name": "Python 3"
    },
    "language_info": {
      "name": "python"
    }
  },
  "cells": [
    {
      "cell_type": "markdown",
      "source": [
        "# Lab: Refactoring for Better Class Design\n",
        "\n",
        "Objectives\n",
        "\n",
        "\n",
        "1.   Improve cohesion by ensuring each class has a single, clear responsibility.\n",
        "2.   Reduce coupling to minimize dependencies between classes.\n",
        "3. Apply refactoring techniques to make the code more maintainable.\n",
        "4. Use Representation-Driven Design (RDD) by utilizing private variables and controlled access.\n",
        "\n",
        "\n",
        "\n",
        "\n",
        "\n"
      ],
      "metadata": {
        "id": "gkAU-xV_kVIU"
      }
    },
    {
      "cell_type": "code",
      "execution_count": 8,
      "metadata": {
        "id": "VYBDnZcAkD4Z"
      },
      "outputs": [],
      "source": [
        "class GameCharacter:\n",
        "    def __init__(self, name, hp, attack, defense, gold, inventory, level, experience, quests):\n",
        "        self.name = name\n",
        "        self.hp = hp\n",
        "        self.attack = attack\n",
        "        self.defense = defense\n",
        "        self.gold = gold\n",
        "        self.inventory = inventory\n",
        "        self.level = level\n",
        "        self.experience = experience\n",
        "        self.quests = quests\n",
        "\n",
        "    def attack_enemy(self, enemy):\n",
        "        damage = self.attack - enemy.defense\n",
        "        if damage > 0:\n",
        "            enemy.hp -= damage\n",
        "        print(f\"{self.name} attacks {enemy.name} for {damage} damage!\")\n",
        "\n",
        "    def buy_item(self, item, price):\n",
        "        if self.gold >= price:\n",
        "            self.gold -= price\n",
        "            self.inventory.append(item)\n",
        "            print(f\"{self.name} bought {item}!\")\n",
        "        else:\n",
        "            print(f\"{self.name} doesn't have enough gold!\")\n",
        "\n",
        "    def display_status(self):\n",
        "        print(f\"Name: {self.name}, HP: {self.hp}, Attack: {self.attack}, Defense: {self.defense}, Gold: {self.gold}, Level: {self.level}, Experience: {self.experience}\")\n",
        "\n",
        "    def gain_experience(self, points):\n",
        "        self.experience += points\n",
        "        if self.experience >= 100:\n",
        "            self.level_up()\n",
        "\n",
        "    def level_up(self):\n",
        "        self.level += 1\n",
        "        self.attack += 5\n",
        "        self.defense += 3\n",
        "        self.hp += 10\n",
        "        print(f\"{self.name} leveled up to level {self.level}!\")\n",
        "\n",
        "    def complete_quest(self, quest):\n",
        "        if quest not in self.quests:\n",
        "            self.quests.append(quest)\n",
        "            print(f\"{self.name} completed quest: {quest}!\")\n",
        "        else:\n",
        "            print(f\"{self.name} already completed this quest.\")\n",
        "\n",
        "    def buy_armor(self, armor, price):\n",
        "        if self.gold >= price:\n",
        "            self.gold -= price\n",
        "            self.inventory.append(armor)\n",
        "            print(f\"{self.name} bought armor: {armor}!\")\n",
        "        else:\n",
        "            print(f\"{self.name} doesn't have enough gold for armor!\")\n",
        "\n",
        "    def use_potion(self, potion):\n",
        "        if potion in self.inventory:\n",
        "            self.hp += 20\n",
        "            self.inventory.remove(potion)\n",
        "            print(f\"{self.name} used a {potion} potion!\")\n",
        "        else:\n",
        "            print(f\"{self.name} doesn't have a {potion} potion!\")\n",
        "\n",
        "\n",
        "\n",
        "\n",
        "\n",
        "\n",
        "\n"
      ]
    },
    {
      "cell_type": "markdown",
      "source": [
        "What's the problem of the code above?"
      ],
      "metadata": {
        "id": "3RzRttMFkxNX"
      }
    },
    {
      "cell_type": "code",
      "source": [
        "#Answer here\n",
        "\n",
        "ปัญหา: คลาส GameCharacter มีความเยอะจนไป เช่น การจัดการ inventory, quests, การโจมตี, การซื้อไอเทม, การใช้ potion, และการ level up คลาสนี้มีขนาดใหญ่และยากต่อการแก้ไข\n",
        "\n",
        "ผลกระทบ: หากต้องการแก้ไขหรือเพิ่มฟีเจอร์ใดฟีเจอร์หนึ่ง อาจส่งผลกระทบต่อส่วนอื่น ๆ ของคลาสโดยไม่จำเป็น\n",
        "\n",
        "วิธีแก้ไข: แยกเป็นคลาสย่อย เช่น Inventory, QuestManager, LevelSystem"
      ],
      "metadata": {
        "id": "EKElSbXmlCL4"
      },
      "execution_count": null,
      "outputs": []
    },
    {
      "cell_type": "markdown",
      "source": [
        "What's your solution to modify the code?\n",
        "\n",
        "Hint: The modified version should contain 3 - 4 classes"
      ],
      "metadata": {
        "id": "YoHUvxGYtBP0"
      }
    },
    {
      "cell_type": "code",
      "source": [
        "#Explain here\n",
        "คลาส Item: เป็นคลาสพื้นฐานสำหรับไอเทมต่าง ๆ โดยมีคลาสย่อยเช่น Potion และ Armor เพื่อจัดการไอเทมประเภทต่าง ๆ\n",
        "\n",
        "คลาส Inventory: ดูแลการเพิ่ม ลบ และตรวจสอบไอเทมใน inventory\n",
        "\n",
        "คลาส QuestManager: ดูแลการเพิ่มและเสร็จสิ้น quests\n",
        "\n",
        "คลาส GameCharacter: ดูแลข้อมูลและพฤติกรรมของตัวละคร โดยใช้ composition เพื่อเชื่อมโยงกับ Inventory และ QuestManager"
      ],
      "metadata": {
        "id": "D516rZvotJ6H",
        "outputId": "3e76396a-3eb9-46a8-c1ee-b35f3cab6bae",
        "colab": {
          "base_uri": "https://localhost:8080/",
          "height": 110
        }
      },
      "execution_count": 7,
      "outputs": [
        {
          "output_type": "error",
          "ename": "SyntaxError",
          "evalue": "invalid syntax (<ipython-input-7-bb329d534e9d>, line 2)",
          "traceback": [
            "\u001b[0;36m  File \u001b[0;32m\"<ipython-input-7-bb329d534e9d>\"\u001b[0;36m, line \u001b[0;32m2\u001b[0m\n\u001b[0;31m    คลาส Item: เป็นคลาสพื้นฐานสำหรับไอเทมต่าง ๆ โดยมีคลาสย่อยเช่น Potion และ Armor เพื่อจัดการไอเทมประเภทต่าง ๆ\u001b[0m\n\u001b[0m         ^\u001b[0m\n\u001b[0;31mSyntaxError\u001b[0m\u001b[0;31m:\u001b[0m invalid syntax\n"
          ]
        }
      ]
    },
    {
      "cell_type": "markdown",
      "source": [
        "Refactor the code using good class design principle."
      ],
      "metadata": {
        "id": "33deEtYdl8uy"
      }
    },
    {
      "cell_type": "code",
      "source": [
        "class Item:\n",
        "    def __init__(self, name, price):\n",
        "        self.name = name\n",
        "        self.price = price\n",
        "\n",
        "    def __str__(self):\n",
        "        return self.name\n",
        "\n",
        "class Potion(Item):\n",
        "    def __init__(self, name, price, heal_amount):\n",
        "        super().__init__(name, price)\n",
        "        self.heal_amount = heal_amount\n",
        "\n",
        "class Armor(Item):\n",
        "    def __init__(self, name, price, defense):\n",
        "        super().__init__(name, price)\n",
        "        self.defense = defense\n",
        "\n",
        "class Inventory:\n",
        "    def __init__(self):\n",
        "        self.items = []\n",
        "\n",
        "    def add_item(self, item):\n",
        "        self.items.append(item)\n",
        "        print(f\"Added {item.name} to inventory.\")\n",
        "\n",
        "    def remove_item(self, item):\n",
        "        if item in self.items:\n",
        "            self.items.remove(item)\n",
        "            print(f\"Removed {item.name} from inventory.\")\n",
        "            return True\n",
        "        else:\n",
        "            print(f\"{item.name} not found in inventory.\")\n",
        "            return False\n",
        "\n",
        "    def has_item(self, item):\n",
        "        return item in self.items\n",
        "\n",
        "class QuestManager:\n",
        "    def __init__(self):\n",
        "        self.quests = []\n",
        "\n",
        "    def add_quest(self, quest):\n",
        "        if quest not in self.quests:\n",
        "            self.quests.append(quest)\n",
        "            print(f\"Added quest: {quest}\")\n",
        "        else:\n",
        "            print(f\"Quest {quest} already exists.\")\n",
        "\n",
        "    def complete_quest(self, quest):\n",
        "        if quest in self.quests:\n",
        "            self.quests.remove(quest)\n",
        "            print(f\"Quest {quest} completed!\")\n",
        "        else:\n",
        "            print(f\"Quest {quest} not found.\")\n",
        "\n",
        "class GameCharacter:\n",
        "    def __init__(self, name, hp, attack, defense, gold, level, experience):\n",
        "        self.name = name\n",
        "        self.hp = hp\n",
        "        self.attack = attack\n",
        "        self.defense = defense\n",
        "        self.gold = gold\n",
        "        self.level = level\n",
        "        self.experience = experience\n",
        "        self.inventory = Inventory()\n",
        "        self.quest_manager = QuestManager()\n",
        "\n",
        "    def attack_enemy(self, enemy):\n",
        "        if enemy:\n",
        "            damage = self.attack - enemy.defense\n",
        "            if damage > 0:\n",
        "                enemy.hp -= damage\n",
        "            print(f\"{self.name} attacks {enemy.name} for {damage} damage!\")\n",
        "        else:\n",
        "            print(\"No enemy to attack!\")\n",
        "\n",
        "    def buy_item(self, item):\n",
        "        if self.gold >= item.price:\n",
        "            self.gold -= item.price\n",
        "            self.inventory.add_item(item)\n",
        "            print(f\"{self.name} bought {item.name}!\")\n",
        "        else:\n",
        "            print(f\"{self.name} doesn't have enough gold!\")\n",
        "\n",
        "    def use_potion(self, potion):\n",
        "        if self.inventory.has_item(potion):\n",
        "            self.hp += potion.heal_amount\n",
        "            self.inventory.remove_item(potion)\n",
        "            print(f\"{self.name} used a {potion.name} potion!\")\n",
        "        else:\n",
        "            print(f\"{self.name} doesn't have a {potion.name} potion!\")\n",
        "\n",
        "    def display_status(self):\n",
        "        print(f\"Name: {self.name}, HP: {self.hp}, Attack: {self.attack}, Defense: {self.defense}, Gold: {self.gold}, Level: {self.level}, Experience: {self.experience}\")\n",
        "\n",
        "    def gain_experience(self, points):\n",
        "        self.experience += points\n",
        "        if self.experience >= 100:\n",
        "            self.level_up()\n",
        "\n",
        "    def level_up(self):\n",
        "        self.level += 1\n",
        "        self.attack += 5\n",
        "        self.defense += 3\n",
        "        self.hp += 10\n",
        "        print(f\"{self.name} leveled up to level {self.level}!\")\n",
        "\n",
        "\n"
      ],
      "metadata": {
        "id": "TG5K1NO7l_JE"
      },
      "execution_count": 1,
      "outputs": []
    },
    {
      "cell_type": "code",
      "source": [
        "if __name__ == \"__main__\":\n",
        "    player = GameCharacter(\"Rune Knight\", 100, 20, 10, 50, 1, 0)\n",
        "    enemy = GameCharacter(\"Baphomet\", 50, 10, 5, 0, 1, 0)\n",
        "\n",
        "    player.attack_enemy(enemy)\n",
        "    player.display_status()\n",
        "\n",
        "    potion = Potion(\"Health Potion\", 10, 20)\n",
        "    player.buy_item(potion)\n",
        "    player.use_potion(potion)\n",
        "\n",
        "    armor = Armor(\"Fullplate Armor\", 30, 5)\n",
        "    player.buy_item(armor)\n",
        "\n",
        "    player.quest_manager.add_quest(\"Defeat the Baphomet\")\n",
        "    player.quest_manager.complete_quest(\"Defeat the Baphomet\")"
      ],
      "metadata": {
        "id": "BE4PlnW_Uhow",
        "outputId": "c3bebba2-b89a-440b-9cdf-0e4ff78bcb50",
        "colab": {
          "base_uri": "https://localhost:8080/"
        }
      },
      "execution_count": 6,
      "outputs": [
        {
          "output_type": "stream",
          "name": "stdout",
          "text": [
            "Rune Knight attacks Baphomet for 15 damage!\n",
            "Name: Rune Knight, HP: 100, Attack: 20, Defense: 10, Gold: 50, Level: 1, Experience: 0\n",
            "Added Health Potion to inventory.\n",
            "Rune Knight bought Health Potion!\n",
            "Removed Health Potion from inventory.\n",
            "Rune Knight used a Health Potion potion!\n",
            "Added Fullplate Armor to inventory.\n",
            "Rune Knight bought Fullplate Armor!\n",
            "Added quest: Defeat the Baphomet\n",
            "Quest Defeat the Baphomet completed!\n"
          ]
        }
      ]
    }
  ]
}